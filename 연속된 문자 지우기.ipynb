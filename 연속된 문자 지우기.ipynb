{
 "cells": [
  {
   "cell_type": "code",
   "execution_count": 18,
   "id": "450330f3",
   "metadata": {},
   "outputs": [],
   "source": [
    "def solution(s):\n",
    "    stack = []\n",
    "    for x in s :\n",
    "        if len(stack)>0:\n",
    "            if x==stack[-1]:\n",
    "                stack.pop()\n",
    "            else:\n",
    "                stack.append(x)\n",
    "        else:\n",
    "            stack.append(x)\n",
    "    return \"\".join(stack)"
   ]
  },
  {
   "cell_type": "code",
   "execution_count": 19,
   "id": "0c647cb8",
   "metadata": {},
   "outputs": [
    {
     "data": {
      "text/plain": [
       "'a'"
      ]
     },
     "execution_count": 19,
     "metadata": {},
     "output_type": "execute_result"
    }
   ],
   "source": [
    "solution(\"acbbcaa\")"
   ]
  },
  {
   "cell_type": "code",
   "execution_count": 20,
   "id": "1d491855",
   "metadata": {},
   "outputs": [
    {
     "name": "stdout",
     "output_type": "stream",
     "text": [
      "a\n",
      "bacaba\n",
      "a\n",
      "ba\n",
      "ca\n"
     ]
    }
   ],
   "source": [
    "print(solution(\"acbbcaa\"))\n",
    "print(solution(\"bacccaba\"))\n",
    "print(solution(\"aabaababbaa\"))\n",
    "print(solution(\"bcaacccbaabccabbaa\"))\n",
    "print(solution(\"cacaabbc\"))"
   ]
  },
  {
   "cell_type": "markdown",
   "id": "d06efbbf",
   "metadata": {},
   "source": [
    "- stack 에 뭐가 있으면 True "
   ]
  },
  {
   "cell_type": "code",
   "execution_count": null,
   "id": "172675ec",
   "metadata": {},
   "outputs": [],
   "source": [
    "def solution(s):\n",
    "    stack = []\n",
    "    for x in s:\n",
    "        if stack and stack[-1] == x: \n",
    "            stack.pop()\n",
    "        else:\n",
    "            stack.append(x)\n",
    "            \n",
    "    return \"\".join(stack)"
   ]
  }
 ],
 "metadata": {
  "kernelspec": {
   "display_name": "Python 3 (ipykernel)",
   "language": "python",
   "name": "python3"
  },
  "language_info": {
   "codemirror_mode": {
    "name": "ipython",
    "version": 3
   },
   "file_extension": ".py",
   "mimetype": "text/x-python",
   "name": "python",
   "nbconvert_exporter": "python",
   "pygments_lexer": "ipython3",
   "version": "3.8.11"
  }
 },
 "nbformat": 4,
 "nbformat_minor": 5
}
