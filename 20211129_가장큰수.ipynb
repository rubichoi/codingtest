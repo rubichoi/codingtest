{
 "cells": [
  {
   "cell_type": "markdown",
   "id": "5bf4c1ad",
   "metadata": {},
   "source": [
    "가장 큰 수"
   ]
  },
  {
   "cell_type": "markdown",
   "id": "614bc7cf",
   "metadata": {},
   "source": [
    "https://programmers.co.kr/learn/courses/30/lessons/42746"
   ]
  },
  {
   "cell_type": "code",
   "execution_count": 1,
   "id": "5ba9e5db",
   "metadata": {
    "ExecuteTime": {
     "end_time": "2021-07-07T01:11:41.439556Z",
     "start_time": "2021-07-07T01:11:41.433187Z"
    }
   },
   "outputs": [
    {
     "data": {
      "text/plain": [
       "['6', '10', '2']"
      ]
     },
     "execution_count": 1,
     "metadata": {},
     "output_type": "execute_result"
    }
   ],
   "source": [
    "numbers = [6,10,2]\n",
    "numbers = list(map(str,numbers))\n",
    "numbers"
   ]
  },
  {
   "cell_type": "code",
   "execution_count": 2,
   "id": "7b390c6d",
   "metadata": {
    "ExecuteTime": {
     "end_time": "2021-07-07T00:56:49.411102Z",
     "start_time": "2021-07-07T00:56:49.392104Z"
    }
   },
   "outputs": [],
   "source": [
    "def solution(numbers):\n",
    "    numbers = list(map(str, numbers))\n",
    "    numbers.sort(key = lambda x: x*3, reverse=True)  \n",
    "    # key :정렬을 목적으로 하는 함수를 값으로 넣는다. lambda를 이용할 수 있다.\n",
    "    # key 값을 기준으로 정렬되고 기본값은 오름차순이다. \n",
    "    # num의 인수값이 1000 이하이므로 3자리수로 맞춘 뒤, 비교\n",
    "    # 첫번째 인덱스인 666[0]인 6과 101010[0]인 1과 222[0]인 2를 ascii숫자로 바꿔서 비교합니다. \n",
    "    # 즉, 앞자리가 큰 6 -> 2 -> 1순으로 정렬되어서 위와 같은 결과를 얻게 된 것입니다.\n",
    "    # reverse=True를 매개변수로 입력하면 내림차순으로 정렬할 수 있다.\n",
    "    return str(int(''.join(numbers)))\n",
    "    # int : '0000' --> '0'"
   ]
  },
  {
   "cell_type": "code",
   "execution_count": 3,
   "id": "64305b96",
   "metadata": {
    "ExecuteTime": {
     "end_time": "2021-07-07T00:57:08.554465Z",
     "start_time": "2021-07-07T00:57:08.543463Z"
    }
   },
   "outputs": [
    {
     "data": {
      "text/plain": [
       "'6210'"
      ]
     },
     "execution_count": 3,
     "metadata": {},
     "output_type": "execute_result"
    }
   ],
   "source": [
    "numbers = [6,10,2]\n",
    "solution(numbers)"
   ]
  }
 ],
 "metadata": {
  "kernelspec": {
   "display_name": "Python 3",
   "language": "python",
   "name": "python3"
  },
  "language_info": {
   "codemirror_mode": {
    "name": "ipython",
    "version": 3
   },
   "file_extension": ".py",
   "mimetype": "text/x-python",
   "name": "python",
   "nbconvert_exporter": "python",
   "pygments_lexer": "ipython3",
   "version": "3.8.8"
  },
  "toc": {
   "base_numbering": 1,
   "nav_menu": {},
   "number_sections": true,
   "sideBar": true,
   "skip_h1_title": false,
   "title_cell": "Table of Contents",
   "title_sidebar": "Contents",
   "toc_cell": false,
   "toc_position": {},
   "toc_section_display": true,
   "toc_window_display": false
  },
  "varInspector": {
   "cols": {
    "lenName": 16,
    "lenType": 16,
    "lenVar": 40
   },
   "kernels_config": {
    "python": {
     "delete_cmd_postfix": "",
     "delete_cmd_prefix": "del ",
     "library": "var_list.py",
     "varRefreshCmd": "print(var_dic_list())"
    },
    "r": {
     "delete_cmd_postfix": ") ",
     "delete_cmd_prefix": "rm(",
     "library": "var_list.r",
     "varRefreshCmd": "cat(var_dic_list()) "
    }
   },
   "types_to_exclude": [
    "module",
    "function",
    "builtin_function_or_method",
    "instance",
    "_Feature"
   ],
   "window_display": false
  }
 },
 "nbformat": 4,
 "nbformat_minor": 5
}
