{
 "cells": [
  {
   "cell_type": "markdown",
   "id": "4e12ef69",
   "metadata": {},
   "source": [
    "- 1,2,1 을 세트로 어떻게 빼지?\n",
    "- 1 다음 2에 집중하는 게 아니라, 2다음 1에 집중.\n",
    "- 1이 나왔고 앞에 2개 이상있을때, 앞앞이 1 앞이 2 이면 pop 2번"
   ]
  },
  {
   "cell_type": "code",
   "execution_count": 6,
   "id": "92f57962",
   "metadata": {},
   "outputs": [],
   "source": [
    "def solution(s):\n",
    "    stack =[]\n",
    "    answer = 0\n",
    "    for x in s:\n",
    "        if len(stack) >=2 and x == 1 and stack[-1]==2 and stack[-2]==1:\n",
    "            stack.pop()\n",
    "            stack.pop()\n",
    "            answer +=1\n",
    "        else:\n",
    "            stack.append(x)\n",
    "    return answer"
   ]
  },
  {
   "cell_type": "code",
   "execution_count": 7,
   "id": "a74f7e9d",
   "metadata": {},
   "outputs": [
    {
     "name": "stdout",
     "output_type": "stream",
     "text": [
      "3\n",
      "6\n",
      "2\n",
      "1\n",
      "0\n"
     ]
    }
   ],
   "source": [
    "print(solution([1, 1, 1, 2, 1, 1, 2, 1, 2, 1]))\n",
    "print(solution([2, 1, 1, 2, 1, 1, 2, 1, 1, 1, 2, 1, 2, 1, 1, 2, 1, 2, 1, 2, 1]))\n",
    "print(solution([1, 1, 1, 1, 1, 2, 1, 2, 1, 1, 1]))\n",
    "print(solution([2, 1, 1, 1, 2, 1, 2]))\n",
    "print(solution([1, 1, 1, 1, 1, 1, 1]))"
   ]
  },
  {
   "cell_type": "markdown",
   "id": "a1fdeda6",
   "metadata": {},
   "source": [
    "- 연속 2인 경우 어떻게 하지?"
   ]
  },
  {
   "cell_type": "code",
   "execution_count": null,
   "id": "19af120f",
   "metadata": {},
   "outputs": [],
   "source": []
  }
 ],
 "metadata": {
  "kernelspec": {
   "display_name": "Python 3 (ipykernel)",
   "language": "python",
   "name": "python3"
  },
  "language_info": {
   "codemirror_mode": {
    "name": "ipython",
    "version": 3
   },
   "file_extension": ".py",
   "mimetype": "text/x-python",
   "name": "python",
   "nbconvert_exporter": "python",
   "pygments_lexer": "ipython3",
   "version": "3.8.11"
  }
 },
 "nbformat": 4,
 "nbformat_minor": 5
}
