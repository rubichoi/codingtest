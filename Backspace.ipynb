{
 "cells": [
  {
   "cell_type": "code",
   "execution_count": 17,
   "id": "db7e3cf3",
   "metadata": {},
   "outputs": [
    {
     "name": "stdout",
     "output_type": "stream",
     "text": [
      "['a', 'b', 'c', '#', '#', 'e', 'c', '#', 'a', 'b']\n"
     ]
    }
   ],
   "source": [
    "s='abc##ec#ab'\n",
    "stack = []\n",
    "for i in s:\n",
    "    stack.append(i)\n",
    "print(stack)"
   ]
  },
  {
   "cell_type": "code",
   "execution_count": 20,
   "id": "2e0a9b96",
   "metadata": {},
   "outputs": [
    {
     "name": "stdout",
     "output_type": "stream",
     "text": [
      "['a', 'e', 'a', 'b']\n"
     ]
    }
   ],
   "source": [
    "# from collections import deque\n",
    "# def solution(s):\n",
    "s='abc##ec#ab'\n",
    "stack = []\n",
    "for i in s:\n",
    "    if i == '#':\n",
    "#         print(stack)\n",
    "        stack.pop()\n",
    "    else:\n",
    "        stack.append(i)\n",
    "print(stack)"
   ]
  },
  {
   "cell_type": "code",
   "execution_count": 23,
   "id": "c1d014ae",
   "metadata": {},
   "outputs": [],
   "source": [
    "def solution(s):\n",
    "    stack = []\n",
    "    for i in s:\n",
    "        if i == '#':\n",
    "            stack.pop()\n",
    "        else:\n",
    "            stack.append(i)\n",
    "    return stack"
   ]
  },
  {
   "cell_type": "code",
   "execution_count": 24,
   "id": "291bfbdd",
   "metadata": {
    "scrolled": true
   },
   "outputs": [
    {
     "name": "stdout",
     "output_type": "stream",
     "text": [
      "['a', 'e', 'a', 'b']\n",
      "['k', 'e']\n",
      "['t', 'e', 'a', 'c', 'h', 'e', 'r']\n",
      "['e', 'n', 'g', 'l', 'i', 's', 'h', 'a', 'b', 'c']\n",
      "['i', 't', 'i', 's', 'g', 'o', 'l', 'd']\n"
     ]
    }
   ],
   "source": [
    "print(solution(\"abc##ec#ab\"))\n",
    "print(solution(\"kefd#ef##s##\"))\n",
    "print(solution(\"teac#cher##er\"))\n",
    "print(solution(\"englitk##shabcde##ff##ef##ashe####\"))\n",
    "print(solution(\"itistime####gold\"))"
   ]
  },
  {
   "cell_type": "markdown",
   "id": "d319137c",
   "metadata": {},
   "source": [
    "- stack의 개수가 0이상일 때만 pop \n",
    "- join 활용"
   ]
  },
  {
   "cell_type": "code",
   "execution_count": 25,
   "id": "9c97a7f1",
   "metadata": {},
   "outputs": [],
   "source": [
    "def solution(s):\n",
    "    stack = []\n",
    "    for i in s:\n",
    "        if i == '#':\n",
    "            if len(stack) > 0:\n",
    "                stack.pop()\n",
    "        else:\n",
    "            stack.append(i)\n",
    "    return \"\".join(stack)"
   ]
  },
  {
   "cell_type": "code",
   "execution_count": 26,
   "id": "39c60f47",
   "metadata": {},
   "outputs": [
    {
     "name": "stdout",
     "output_type": "stream",
     "text": [
      "aeab\n",
      "ke\n",
      "teacher\n",
      "englishabc\n",
      "itisgold\n"
     ]
    }
   ],
   "source": [
    "print(solution(\"abc##ec#ab\"))\n",
    "print(solution(\"kefd#ef##s##\"))\n",
    "print(solution(\"teac#cher##er\"))\n",
    "print(solution(\"englitk##shabcde##ff##ef##ashe####\"))\n",
    "print(solution(\"itistime####gold\"))"
   ]
  },
  {
   "cell_type": "code",
   "execution_count": null,
   "id": "ee3a9df2",
   "metadata": {},
   "outputs": [],
   "source": []
  }
 ],
 "metadata": {
  "kernelspec": {
   "display_name": "Python 3 (ipykernel)",
   "language": "python",
   "name": "python3"
  },
  "language_info": {
   "codemirror_mode": {
    "name": "ipython",
    "version": 3
   },
   "file_extension": ".py",
   "mimetype": "text/x-python",
   "name": "python",
   "nbconvert_exporter": "python",
   "pygments_lexer": "ipython3",
   "version": "3.8.11"
  }
 },
 "nbformat": 4,
 "nbformat_minor": 5
}
