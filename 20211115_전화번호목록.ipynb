{
 "cells": [
  {
   "cell_type": "markdown",
   "id": "aae4a911",
   "metadata": {},
   "source": [
    "전화번호목록"
   ]
  },
  {
   "cell_type": "markdown",
   "id": "129715b4",
   "metadata": {},
   "source": [
    "https://programmers.co.kr/learn/courses/30/lessons/42577"
   ]
  },
  {
   "cell_type": "code",
   "execution_count": 1,
   "id": "cb076df4",
   "metadata": {},
   "outputs": [
    {
     "name": "stdout",
     "output_type": "stream",
     "text": [
      "False\n"
     ]
    }
   ],
   "source": [
    "def solution(phoneBook):\n",
    "    # 1. 비교할 A선택 \n",
    "    for i in range(len(phoneBook)):\n",
    "        # 2. 비교할 B선택 \n",
    "        for j in range(i+1, len(phoneBook)):\n",
    "            # 3. 서로가 서로의 접두어인지 확인한다. \n",
    "            if phoneBook[i].startswith(phoneBook[j]):\n",
    "                return False \n",
    "            if phoneBook[j].startswith(phoneBook[i]):\n",
    "                return False \n",
    "    return True \n",
    "\n",
    "print(solution([\"6\", \"12\", \"6789\"]))"
   ]
  },
  {
   "cell_type": "code",
   "execution_count": 2,
   "id": "8c0019b2",
   "metadata": {},
   "outputs": [
    {
     "name": "stdout",
     "output_type": "stream",
     "text": [
      "False\n"
     ]
    }
   ],
   "source": [
    "def solution(phone_book):\n",
    "    # 1. Hash map을 만든다 \n",
    "    hash_map = {} \n",
    "    for phone_number in phone_book:\n",
    "        hash_map[phone_number] = 1\n",
    "        \n",
    "        \n",
    "    # 2. 접두어가 Hash map에 존재하는지 찾는다 \n",
    "    for phone_number in phone_book: \n",
    "        jubdoo = \"\" \n",
    "        for number in phone_number: \n",
    "            jubdoo += number \n",
    "            # 3. 접두어를 찾아야 한다 (기존 번호와 같은 경우 제외)\n",
    "            if jubdoo in hash_map and jubdoo != phone_number: \n",
    "                return False \n",
    "    return True \n",
    "print(solution([\"6\", \"12\", \"6789\"]))"
   ]
  }
 ],
 "metadata": {
  "kernelspec": {
   "display_name": "Python 3",
   "language": "python",
   "name": "python3"
  },
  "language_info": {
   "codemirror_mode": {
    "name": "ipython",
    "version": 3
   },
   "file_extension": ".py",
   "mimetype": "text/x-python",
   "name": "python",
   "nbconvert_exporter": "python",
   "pygments_lexer": "ipython3",
   "version": "3.8.8"
  }
 },
 "nbformat": 4,
 "nbformat_minor": 5
}
