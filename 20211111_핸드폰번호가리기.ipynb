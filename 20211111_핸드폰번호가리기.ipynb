{
 "cells": [
  {
   "cell_type": "markdown",
   "id": "f7971987",
   "metadata": {},
   "source": [
    "핸드폰번호가리기"
   ]
  },
  {
   "cell_type": "markdown",
   "id": "a032f892",
   "metadata": {},
   "source": [
    "https://programmers.co.kr/learn/courses/30/lessons/12948"
   ]
  },
  {
   "cell_type": "markdown",
   "id": "404f871f",
   "metadata": {},
   "source": [
    "프로그래머스 모바일은 개인정보 보호를 위해 고지서를 보낼 때 고객들의 전화번호의 일부를 가립니다.\n",
    "전화번호가 문자열 phone_number로 주어졌을 때, 전화번호의 뒷 4자리를 제외한 나머지 숫자를 전부 *으로 가린 문자열을 리턴하는 함수, solution을 완성해주세요.\n",
    "\n",
    "제한 조건\n",
    "\n",
    "s는 길이 4 이상, 20이하인 문자열입니다."
   ]
  },
  {
   "cell_type": "markdown",
   "id": "75ea603f",
   "metadata": {},
   "source": [
    "풀이)\n",
    "폰 넘버의 길이를 세고, [-4:] 만큼은 그대로 두고 폰넘버 길이-4만큼 *을 붙여준다."
   ]
  },
  {
   "cell_type": "code",
   "execution_count": 2,
   "id": "29a692d1",
   "metadata": {},
   "outputs": [],
   "source": [
    "def solution(phone_number):\n",
    "    num = len(phone_number)\n",
    "    four = phone_number[-4:]\n",
    "    return \"*\"*(num-4)+four"
   ]
  },
  {
   "cell_type": "code",
   "execution_count": 4,
   "id": "d2ef0980",
   "metadata": {},
   "outputs": [],
   "source": [
    "def hide_numbers(s):\n",
    "    return \"*\"*(len(s)-4) + s[-4:]"
   ]
  }
 ],
 "metadata": {
  "kernelspec": {
   "display_name": "Python 3",
   "language": "python",
   "name": "python3"
  },
  "language_info": {
   "codemirror_mode": {
    "name": "ipython",
    "version": 3
   },
   "file_extension": ".py",
   "mimetype": "text/x-python",
   "name": "python",
   "nbconvert_exporter": "python",
   "pygments_lexer": "ipython3",
   "version": "3.8.8"
  }
 },
 "nbformat": 4,
 "nbformat_minor": 5
}
