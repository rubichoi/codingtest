{
 "cells": [
  {
   "cell_type": "markdown",
   "id": "7edbe026",
   "metadata": {},
   "source": [
    "큰 수 만들기"
   ]
  },
  {
   "cell_type": "markdown",
   "id": "a772495f",
   "metadata": {},
   "source": [
    "https://programmers.co.kr/learn/courses/30/lessons/42883"
   ]
  },
  {
   "cell_type": "markdown",
   "id": "e52d310f",
   "metadata": {},
   "source": [
    "문제 설명\n",
    "\n",
    "어떤 숫자에서 k개의 수를 제거했을 때 얻을 수 있는 가장 큰 숫자를 구하려 합니다.\n",
    "\n",
    "예를 들어, 숫자 1924에서 수 두 개를 제거하면 [19, 12, 14, 92, 94, 24] 를 만들 수 있습니다. 이 중 가장 큰 숫자는 94 입니다.\n",
    "\n",
    "문자열 형식으로 숫자 number와 제거할 수의 개수 k가 solution 함수의 매개변수로 주어집니다. number에서 k 개의 수를 제거했을 때 만들 수 있는 수 중 가장 큰 숫자를 문자열 형태로 return 하도록 solution 함수를 완성하세요."
   ]
  },
  {
   "cell_type": "markdown",
   "id": "03580e72",
   "metadata": {},
   "source": [
    "- 탐욕법\n",
    "\n",
    "현재 상황에서 가장 좋아 보이는 것만을 선택하는 알고리즘. 매 순간 가장 좋아 보이는 것을 선택하며, 현재의 선택이 나중에 미칠 영향에 대해서는 고려하지 않는다.\n",
    "\n",
    "탐욕적으로 문제에 접근했을 때 정확한 답을 찾을 수 있다는 보장이 있으면 매우 효과적이고 직관적인 알고리즘이지만, 대부분의 문제에 대해서는 \"최적의 해\"를 찾을 수 없는 가능성이 크기 때문에 주의해서 사용해야 하는 알고리즘입니다. 매 순간의 선택은 그 순간에 대해서는 최적이었을지라도 그것이 결론적으로 최적이 아닐 수 있기 때문입니다. 그렇기 때문에 그리디 알고리즘을 이용해 문제를 해법을 찾을 경우, 그 해법이 정당한지에 대해서 반드시 확인해 보아야 합니다.\n"
   ]
  },
  {
   "cell_type": "markdown",
   "id": "0204259f",
   "metadata": {},
   "source": [
    "1. 스택 생성\n",
    "2. number를 순회->for num in number:\n",
    "    1. 다음 조건문을 모두 만족할 경우 명령문 반복\n",
    "    2. 조건문\n",
    "        1. k>0\n",
    "        2. 스택이 비어있지 않음\n",
    "        3. 스택 마지막 값 < num\n",
    "            명령문\n",
    "                1.스택 pop\n",
    "                2. k --\n",
    "3. k>0이상이면 스택에서 k개 삭제 후 join해서 결과 값 반환"
   ]
  },
  {
   "cell_type": "markdown",
   "id": "ffdc1b4f",
   "metadata": {},
   "source": [
    "- 예시\n",
    "\n",
    "number = \"4177252841\", k=4일 경우,\n",
    "\n",
    "    (k=4) []\n",
    "    (k=4) [4]\n",
    "    (k=4) [4, 1]\n",
    "    (k=3) [4]\n",
    "    (k=2) []\n",
    "    (k=2) [7]\n",
    "    (k=2) [7, 7]\n",
    "    (k=2) [7, 7, 2]\n",
    "    (k=1) [7, 7]\n",
    "    (k=1) [7, 7, 5]\n",
    "    (k=1) [7, 7, 5, 2]\n",
    "    (k=0) [7, 7, 5]\n",
    "    (k=0) [7, 7, 5, 8]\n",
    "    (k=0) [7, 7, 5, 8, 4]\n",
    "    (k=0) [7, 7, 5, 8, 4, 1]\n",
    "    retrun \"775841\""
   ]
  },
  {
   "cell_type": "code",
   "execution_count": 1,
   "id": "535280cc",
   "metadata": {},
   "outputs": [],
   "source": [
    "def solution(number, k):\n",
    "    answer = [] # Stack\n",
    "    \n",
    "    for num in number:\n",
    "        if not answer:\n",
    "            answer.append(num)\n",
    "            continue\n",
    "        if k > 0:\n",
    "            while answer[-1] < num:\n",
    "                answer.pop()\n",
    "                k -= 1\n",
    "                if not answer or k <= 0:\n",
    "                    break\n",
    "        answer.append(num)\n",
    "        \n",
    "    answer = answer[:-k] if k > 0 else answer\n",
    "    return ''.join(answer)"
   ]
  },
  {
   "cell_type": "code",
   "execution_count": 2,
   "id": "3d8dbba9",
   "metadata": {},
   "outputs": [
    {
     "data": {
      "text/plain": [
       "'775841'"
      ]
     },
     "execution_count": 2,
     "metadata": {},
     "output_type": "execute_result"
    }
   ],
   "source": [
    "solution(\"4177252841\",4)"
   ]
  },
  {
   "cell_type": "code",
   "execution_count": 3,
   "id": "d5ad0385",
   "metadata": {},
   "outputs": [],
   "source": [
    "def solution(number, k):\n",
    "    answer = [] # Stack\n",
    "    \n",
    "    for num in number:\n",
    "        while k > 0 and answer and answer[-1] < num:\n",
    "            answer.pop()\n",
    "            k -= 1\n",
    "        answer.append(num)\n",
    "        \n",
    "    return ''.join(answer[:len(answer) - k])\n"
   ]
  },
  {
   "cell_type": "code",
   "execution_count": 4,
   "id": "52b74825",
   "metadata": {},
   "outputs": [
    {
     "data": {
      "text/plain": [
       "'775841'"
      ]
     },
     "execution_count": 4,
     "metadata": {},
     "output_type": "execute_result"
    }
   ],
   "source": [
    "solution(\"4177252841\",4)"
   ]
  },
  {
   "cell_type": "code",
   "execution_count": 5,
   "id": "90440200",
   "metadata": {},
   "outputs": [],
   "source": [
    "def solution(number, k):\n",
    "    answer = [] # Stack\n",
    "    \n",
    "    for num in number:\n",
    "        while k > 0 and answer and answer[-1] < num:\n",
    "            answer.pop()\n",
    "            k -= 1\n",
    "        answer.append(num)\n",
    "        \n",
    "    return ''.join(answer[:len(answer) - k])"
   ]
  },
  {
   "cell_type": "code",
   "execution_count": 6,
   "id": "a0a693d8",
   "metadata": {},
   "outputs": [
    {
     "data": {
      "text/plain": [
       "'775841'"
      ]
     },
     "execution_count": 6,
     "metadata": {},
     "output_type": "execute_result"
    }
   ],
   "source": [
    "solution(\"4177252841\",4)"
   ]
  },
  {
   "cell_type": "code",
   "execution_count": null,
   "id": "bb459c98",
   "metadata": {},
   "outputs": [],
   "source": []
  },
  {
   "cell_type": "code",
   "execution_count": null,
   "id": "688d5713",
   "metadata": {},
   "outputs": [],
   "source": []
  }
 ],
 "metadata": {
  "kernelspec": {
   "display_name": "Python 3",
   "language": "python",
   "name": "python3"
  },
  "language_info": {
   "codemirror_mode": {
    "name": "ipython",
    "version": 3
   },
   "file_extension": ".py",
   "mimetype": "text/x-python",
   "name": "python",
   "nbconvert_exporter": "python",
   "pygments_lexer": "ipython3",
   "version": "3.8.8"
  }
 },
 "nbformat": 4,
 "nbformat_minor": 5
}
