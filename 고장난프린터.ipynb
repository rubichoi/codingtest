{
 "cells": [
  {
   "cell_type": "code",
   "execution_count": 1,
   "id": "1bb4134b",
   "metadata": {},
   "outputs": [],
   "source": [
    "from collections import deque"
   ]
  },
  {
   "cell_type": "code",
   "execution_count": 15,
   "id": "fdc934e0",
   "metadata": {},
   "outputs": [],
   "source": [
    "def solution(s):\n",
    "    queue = deque(s)\n",
    "    while len(queue) > 2 :\n",
    "        queue.popleft()\n",
    "        queue.popleft()\n",
    "        queue.append(queue[0])\n",
    "        queue.popleft()\n",
    "    return queue"
   ]
  },
  {
   "cell_type": "code",
   "execution_count": 16,
   "id": "595b5fda",
   "metadata": {},
   "outputs": [
    {
     "name": "stdout",
     "output_type": "stream",
     "text": [
      "deque([6])\n",
      "deque([7, 5])\n",
      "deque([9, 2])\n",
      "deque([3, 12])\n",
      "deque([3, 7])\n"
     ]
    }
   ],
   "source": [
    "print(solution([3, 1, 4, 5, 2, 6, 7]))\n",
    "print(solution([10, 8, 3, 1, 4, 5, 2, 6, 7, 9]))\n",
    "print(solution([10, 8, 3, 11, 12, 1, 4, 5, 2, 6, 7, 9]))\n",
    "print(solution([10, 8, 3, 1, 4, 5, 2, 11, 13, 6, 7, 12, 9, 14]))\n",
    "print(solution([1, 8, 6, 10, 4, 7, 2, 5, 3, 9]))\n"
   ]
  },
  {
   "cell_type": "markdown",
   "id": "54493594",
   "metadata": {},
   "source": [
    "- 두개 남았을 때 하나만 빼줌"
   ]
  },
  {
   "cell_type": "code",
   "execution_count": 17,
   "id": "78569f84",
   "metadata": {},
   "outputs": [],
   "source": [
    "def solution(s):\n",
    "    queue = deque(s)\n",
    "    while len(queue) > 2 :\n",
    "        queue.popleft()\n",
    "        queue.popleft()\n",
    "        queue.append(queue[0])\n",
    "        queue.popleft()\n",
    "        if len(queue) == 2:\n",
    "            queue.popleft()\n",
    "    return queue"
   ]
  },
  {
   "cell_type": "code",
   "execution_count": 18,
   "id": "af5740ad",
   "metadata": {},
   "outputs": [
    {
     "name": "stdout",
     "output_type": "stream",
     "text": [
      "deque([6])\n",
      "deque([5])\n",
      "deque([2])\n",
      "deque([12])\n",
      "deque([7])\n"
     ]
    }
   ],
   "source": [
    "print(solution([3, 1, 4, 5, 2, 6, 7]))\n",
    "print(solution([10, 8, 3, 1, 4, 5, 2, 6, 7, 9]))\n",
    "print(solution([10, 8, 3, 11, 12, 1, 4, 5, 2, 6, 7, 9]))\n",
    "print(solution([10, 8, 3, 1, 4, 5, 2, 11, 13, 6, 7, 12, 9, 14]))\n",
    "print(solution([1, 8, 6, 10, 4, 7, 2, 5, 3, 9]))"
   ]
  },
  {
   "cell_type": "code",
   "execution_count": null,
   "id": "4f2625de",
   "metadata": {},
   "outputs": [],
   "source": []
  }
 ],
 "metadata": {
  "kernelspec": {
   "display_name": "Python 3 (ipykernel)",
   "language": "python",
   "name": "python3"
  },
  "language_info": {
   "codemirror_mode": {
    "name": "ipython",
    "version": 3
   },
   "file_extension": ".py",
   "mimetype": "text/x-python",
   "name": "python",
   "nbconvert_exporter": "python",
   "pygments_lexer": "ipython3",
   "version": "3.8.11"
  }
 },
 "nbformat": 4,
 "nbformat_minor": 5
}
