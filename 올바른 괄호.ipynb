{
 "cells": [
  {
   "cell_type": "code",
   "execution_count": 13,
   "id": "0ae9166a",
   "metadata": {},
   "outputs": [],
   "source": [
    "s = '((()))()'\n",
    "def check(s):\n",
    "    stack =[]\n",
    "    for i in s:\n",
    "        if i =='(':\n",
    "            stack.append(i)\n",
    "        else:\n",
    "            stack.pop()\n",
    "    if len(stack)==0:\n",
    "        answer = \"yes\"\n",
    "    else:\n",
    "        answer = \"no\"\n",
    "    return answer"
   ]
  },
  {
   "cell_type": "code",
   "execution_count": 14,
   "id": "9c8d423e",
   "metadata": {},
   "outputs": [
    {
     "data": {
      "text/plain": [
       "'yes'"
      ]
     },
     "execution_count": 14,
     "metadata": {},
     "output_type": "execute_result"
    }
   ],
   "source": [
    "answer = check(s)\n",
    "answer"
   ]
  },
  {
   "cell_type": "markdown",
   "id": "586607d5",
   "metadata": {},
   "source": [
    "- 처음에 생각하기 어려운 부분 : 한 쌍을 어떻게 인식하지? \n",
    "- 답 : 열린괄호 스택쌓고 닫힌괄호 만나면 한쌍으로 인식해서 하나 지워. "
   ]
  },
  {
   "cell_type": "code",
   "execution_count": 15,
   "id": "8d977d46",
   "metadata": {},
   "outputs": [
    {
     "name": "stdout",
     "output_type": "stream",
     "text": [
      "yes\n",
      "no\n"
     ]
    },
    {
     "ename": "IndexError",
     "evalue": "pop from empty list",
     "output_type": "error",
     "traceback": [
      "\u001b[0;31m---------------------------------------------------------------------------\u001b[0m",
      "\u001b[0;31mIndexError\u001b[0m                                Traceback (most recent call last)",
      "\u001b[0;32m/tmp/ipykernel_3337647/2143628878.py\u001b[0m in \u001b[0;36m<module>\u001b[0;34m\u001b[0m\n\u001b[1;32m      1\u001b[0m \u001b[0mprint\u001b[0m\u001b[0;34m(\u001b[0m\u001b[0mcheck\u001b[0m\u001b[0;34m(\u001b[0m\u001b[0;34m\"((()))()\"\u001b[0m\u001b[0;34m)\u001b[0m\u001b[0;34m)\u001b[0m\u001b[0;34m\u001b[0m\u001b[0;34m\u001b[0m\u001b[0m\n\u001b[1;32m      2\u001b[0m \u001b[0mprint\u001b[0m\u001b[0;34m(\u001b[0m\u001b[0mcheck\u001b[0m\u001b[0;34m(\u001b[0m\u001b[0;34m\"(()(()\"\u001b[0m\u001b[0;34m)\u001b[0m\u001b[0;34m)\u001b[0m\u001b[0;34m\u001b[0m\u001b[0;34m\u001b[0m\u001b[0m\n\u001b[0;32m----> 3\u001b[0;31m \u001b[0mprint\u001b[0m\u001b[0;34m(\u001b[0m\u001b[0mcheck\u001b[0m\u001b[0;34m(\u001b[0m\u001b[0;34m\"()())\"\u001b[0m\u001b[0;34m)\u001b[0m\u001b[0;34m)\u001b[0m\u001b[0;34m\u001b[0m\u001b[0;34m\u001b[0m\u001b[0m\n\u001b[0m\u001b[1;32m      4\u001b[0m \u001b[0mprint\u001b[0m\u001b[0;34m(\u001b[0m\u001b[0mcheck\u001b[0m\u001b[0;34m(\u001b[0m\u001b[0;34m\"())(\"\u001b[0m\u001b[0;34m)\u001b[0m\u001b[0;34m)\u001b[0m\u001b[0;34m\u001b[0m\u001b[0;34m\u001b[0m\u001b[0m\n\u001b[1;32m      5\u001b[0m \u001b[0mprint\u001b[0m\u001b[0;34m(\u001b[0m\u001b[0mcheck\u001b[0m\u001b[0;34m(\u001b[0m\u001b[0;34m\"((())))()(\"\u001b[0m\u001b[0;34m)\u001b[0m\u001b[0;34m)\u001b[0m\u001b[0;34m\u001b[0m\u001b[0;34m\u001b[0m\u001b[0m\n",
      "\u001b[0;32m/tmp/ipykernel_3337647/1757054824.py\u001b[0m in \u001b[0;36mcheck\u001b[0;34m(s)\u001b[0m\n\u001b[1;32m      7\u001b[0m             \u001b[0mstack\u001b[0m\u001b[0;34m.\u001b[0m\u001b[0mappend\u001b[0m\u001b[0;34m(\u001b[0m\u001b[0mi\u001b[0m\u001b[0;34m)\u001b[0m\u001b[0;34m\u001b[0m\u001b[0;34m\u001b[0m\u001b[0m\n\u001b[1;32m      8\u001b[0m         \u001b[0;32melse\u001b[0m\u001b[0;34m:\u001b[0m\u001b[0;34m\u001b[0m\u001b[0;34m\u001b[0m\u001b[0m\n\u001b[0;32m----> 9\u001b[0;31m             \u001b[0mstack\u001b[0m\u001b[0;34m.\u001b[0m\u001b[0mpop\u001b[0m\u001b[0;34m(\u001b[0m\u001b[0;34m)\u001b[0m\u001b[0;34m\u001b[0m\u001b[0;34m\u001b[0m\u001b[0m\n\u001b[0m\u001b[1;32m     10\u001b[0m     \u001b[0;32mif\u001b[0m \u001b[0mlen\u001b[0m\u001b[0;34m(\u001b[0m\u001b[0mstack\u001b[0m\u001b[0;34m)\u001b[0m\u001b[0;34m==\u001b[0m\u001b[0;36m0\u001b[0m\u001b[0;34m:\u001b[0m\u001b[0;34m\u001b[0m\u001b[0;34m\u001b[0m\u001b[0m\n\u001b[1;32m     11\u001b[0m         \u001b[0manswer\u001b[0m \u001b[0;34m=\u001b[0m \u001b[0;34m\"yes\"\u001b[0m\u001b[0;34m\u001b[0m\u001b[0;34m\u001b[0m\u001b[0m\n",
      "\u001b[0;31mIndexError\u001b[0m: pop from empty list"
     ]
    }
   ],
   "source": [
    "print(check(\"((()))()\"))\n",
    "print(check(\"(()(()\"))\n",
    "print(check(\"()())\"))\n",
    "print(check(\"())(\"))\n",
    "print(check(\"((())))()(\"))"
   ]
  },
  {
   "cell_type": "markdown",
   "id": "66eb8e5a",
   "metadata": {},
   "source": [
    "- 틀린 부분 : 스택이 비어있을 때 닫힌 괄호가 나오면 에러"
   ]
  },
  {
   "cell_type": "code",
   "execution_count": 18,
   "id": "39fa417f",
   "metadata": {},
   "outputs": [],
   "source": [
    "def check(s):\n",
    "    stack =[]\n",
    "    for i in s:\n",
    "        if i == ')':\n",
    "            if len(stack)==0:\n",
    "                answer = \"no\"\n",
    "                return answer\n",
    "            else:\n",
    "                stack.pop()\n",
    "        if i =='(':\n",
    "            stack.append(i)\n",
    "    if len(stack)==0:\n",
    "        answer = \"yes\"\n",
    "    else:\n",
    "        answer = \"no\"\n",
    "    return answer"
   ]
  },
  {
   "cell_type": "code",
   "execution_count": 19,
   "id": "4f3a7086",
   "metadata": {},
   "outputs": [
    {
     "name": "stdout",
     "output_type": "stream",
     "text": [
      "yes\n",
      "no\n",
      "no\n",
      "no\n",
      "no\n"
     ]
    }
   ],
   "source": [
    "print(check(\"((()))()\"))\n",
    "print(check(\"(()(()\"))\n",
    "print(check(\"()())\"))\n",
    "print(check(\"())(\"))\n",
    "print(check(\"((())))()(\"))"
   ]
  },
  {
   "cell_type": "code",
   "execution_count": null,
   "id": "1a326502",
   "metadata": {},
   "outputs": [],
   "source": [
    "def check(s):\n",
    "    stack =[]\n",
    "    answer = \"YES\"\n",
    "    for i in s:\n",
    "        if i == ')':\n",
    "            if len(stack)==0:\n",
    "                return \"NO\"\n",
    "            stack.pop()\n",
    "        if i =='(':\n",
    "            stack.append(i)\n",
    "    if len(stack)==0:\n",
    "        return answer\n",
    "    else:\n",
    "        return \"NO\""
   ]
  }
 ],
 "metadata": {
  "kernelspec": {
   "display_name": "Python 3 (ipykernel)",
   "language": "python",
   "name": "python3"
  },
  "language_info": {
   "codemirror_mode": {
    "name": "ipython",
    "version": 3
   },
   "file_extension": ".py",
   "mimetype": "text/x-python",
   "name": "python",
   "nbconvert_exporter": "python",
   "pygments_lexer": "ipython3",
   "version": "3.8.11"
  }
 },
 "nbformat": 4,
 "nbformat_minor": 5
}
