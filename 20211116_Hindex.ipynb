{
 "cells": [
  {
   "cell_type": "markdown",
   "id": "dc7c6162",
   "metadata": {},
   "source": [
    "## H-Index"
   ]
  },
  {
   "cell_type": "markdown",
   "id": "f00bf5eb",
   "metadata": {},
   "source": [
    "https://programmers.co.kr/learn/courses/30/lessons/42747"
   ]
  },
  {
   "cell_type": "markdown",
   "id": "df3b0646",
   "metadata": {},
   "source": [
    "- sort()\n",
    "\n",
    "sort 함수는 리스트 내부에 있는 요소들을 정렬해주는 함수"
   ]
  },
  {
   "cell_type": "code",
   "execution_count": 1,
   "id": "12ae9084",
   "metadata": {},
   "outputs": [
    {
     "name": "stdout",
     "output_type": "stream",
     "text": [
      "[10, 13, 15, 20, 30, 50, 80]\n"
     ]
    }
   ],
   "source": [
    "# list.sort() => only list\n",
    "array = [10, 20, 15, 13, 30, 80, 50]\n",
    "array.sort() \n",
    "print(array)"
   ]
  },
  {
   "cell_type": "code",
   "execution_count": 2,
   "id": "2dc50206",
   "metadata": {},
   "outputs": [],
   "source": [
    "array.sort(reverse=True) # 역 정렬"
   ]
  },
  {
   "cell_type": "markdown",
   "id": "e8ce454d",
   "metadata": {},
   "source": [
    "- sorted()\n",
    "\n",
    "sorted 함수는 특정 리스트를 정렬한 후 정렬된 리스트를 반환해주는 함수"
   ]
  },
  {
   "cell_type": "code",
   "execution_count": 4,
   "id": "1ab0df27",
   "metadata": {},
   "outputs": [
    {
     "name": "stdout",
     "output_type": "stream",
     "text": [
      "[10, 13, 15, 20, 30, 50, 80]\n"
     ]
    }
   ],
   "source": [
    "# sorted () => iterable\n",
    "array = [10, 20, 15, 13, 30, 80, 50]\n",
    "new_array = sorted(array)\n",
    "print(new_array)"
   ]
  },
  {
   "cell_type": "code",
   "execution_count": 5,
   "id": "1c258d4f",
   "metadata": {},
   "outputs": [
    {
     "data": {
      "text/plain": [
       "[80, 50, 30, 20, 15, 13, 10]"
      ]
     },
     "execution_count": 5,
     "metadata": {},
     "output_type": "execute_result"
    }
   ],
   "source": [
    "new_array = sorted(array, reverse=True) # 역 정렬\n",
    "new_array"
   ]
  },
  {
   "cell_type": "markdown",
   "id": "83a26d64",
   "metadata": {},
   "source": [
    "### 핵심포인트\n",
    "- 문제 이해하기!\n",
    "- 0 <= H-Index <= n\n",
    "- 정렬과 역정렬\n",
    "- enumerate(iterable, start=0)"
   ]
  },
  {
   "cell_type": "markdown",
   "id": "b96e9d20",
   "metadata": {},
   "source": [
    "1. citations를 정렬한다.\n",
    "2. citations를 순회한다.\n",
    "    - citation이 n - i 보다 크거나 같을 경우 n - i가 H-Inex가 되기 때문에 결과를 반환한다.\n",
    "3. 이전 반복문에서 결과를 반환하지 못했을 경우를 고려해 0을 반환한다."
   ]
  },
  {
   "cell_type": "code",
   "execution_count": 6,
   "id": "e9500f27",
   "metadata": {},
   "outputs": [],
   "source": [
    "def solution(citations):\n",
    "    citations.sort()\n",
    "    \n",
    "    n = len(citations)\n",
    "    for i, citation in enumerate(citations):\n",
    "        if citation >= n - i:\n",
    "            return n - i\n",
    "    return 0"
   ]
  }
 ],
 "metadata": {
  "kernelspec": {
   "display_name": "Python 3",
   "language": "python",
   "name": "python3"
  },
  "language_info": {
   "codemirror_mode": {
    "name": "ipython",
    "version": 3
   },
   "file_extension": ".py",
   "mimetype": "text/x-python",
   "name": "python",
   "nbconvert_exporter": "python",
   "pygments_lexer": "ipython3",
   "version": "3.8.8"
  }
 },
 "nbformat": 4,
 "nbformat_minor": 5
}
