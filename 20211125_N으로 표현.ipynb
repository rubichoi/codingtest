{
 "cells": [
  {
   "cell_type": "markdown",
   "id": "f42db959",
   "metadata": {},
   "source": [
    "N으로 표현"
   ]
  },
  {
   "cell_type": "markdown",
   "id": "0139b7d1",
   "metadata": {},
   "source": [
    "https://programmers.co.kr/learn/courses/30/lessons/42895"
   ]
  },
  {
   "cell_type": "markdown",
   "id": "2dc469af",
   "metadata": {},
   "source": [
    "- 동적 계획법 (Dynamic Programming)\n",
    "\n",
    "복잡한 문제를 간단한 여러 개의 문제로 나누어 푸는 방법. 즉, 어떤 문제를 풀기 위해 문제를 여러 개의 하위 문제로 나누어 푼 다음 그것을 결합하여 최종적인 목적에 도달하는 것이다. 하지만 모든 경우에 동적 계획법을 적용할 수 있는 것은 아니며, 다음 조건을 만족할 때 사용할 수 있다.\n",
    "\n",
    "큰 문제를 작은 문제로 나눌 수 있다.\n",
    "\n",
    "작은 문제에서 구한 정답은 그것을 포함하는 큰 문제에서도 동일하다."
   ]
  },
  {
   "cell_type": "markdown",
   "id": "bacc4662",
   "metadata": {},
   "source": [
    "<div class=\"alert alert-block alert-warning\">\n",
    "<strong><font color=\"blue\" size=\"3em\">점화식</font></strong><br>\n",
    "(U는 합집합을 의미)<br>\n",
    "    \n",
    "N을 i번 사용해서 만들 수 있는 수의 집합 =<br>\n",
    "N을 i번 연결한 수 U<br>\n",
    "(N을 1번 사용했을 때 결과)에 (N을 i - 1번 사용했을 때 결과)에 사칙 연산 한 수들 U<br>\n",
    "(N을 2번 사용했을 때 결과)에 (N을 i - 2번 사용했을 때 결과)에 사칙 연산 한 수들 U<br>\n",
    "(N을 3번 사용했을 때 결과)에 (N을 i - 3번 사용했을 때 결과)에 사칙 연산 한 수들 U<br>\n",
    "....<br>\n",
    "(N을 i - 1번 사용했을 때 결과)에 (N을 1번 사용했을 때 결과)에 사칙 연산 한 수들 U\n",
    "</div>"
   ]
  },
  {
   "cell_type": "code",
   "execution_count": null,
   "id": "a6903c2b",
   "metadata": {},
   "outputs": [],
   "source": [
    "def solution(N, number):\n",
    "    if N == number: return 1\n",
    "    \n",
    "    DP = [{}, { N }]\n",
    "    for i in range(2, 9):\n",
    "        temp = { int(str(N) * i) }\n",
    "        \n",
    "        for j in range(1, i // 2 + 1):\n",
    "            for num_1 in DP[j]:\n",
    "                for num_2 in DP[i - j]: \n",
    "                    temp.add(num_1 + num_2)\n",
    "                    temp.add(num_1 - num_2)\n",
    "                    temp.add(num_2 - num_1)\n",
    "                    temp.add(num_1 * num_2)\n",
    "                    if num_2: temp.add(num_1 // num_2)\n",
    "                    if num_1: temp.add(num_2 // num_1)\n",
    "                    \n",
    "                    if number in temp: return i\n",
    "                    \n",
    "        DP.append(temp)\n",
    "    return -1"
   ]
  },
  {
   "cell_type": "markdown",
   "id": "fee068d6",
   "metadata": {},
   "source": [
    "핵심 포인트\n",
    "\n",
    "- 연산자(*, /)의 위치에 따라서 값이 달라진다는 점.\n",
    "- set과 dictionary의 경우 hash 구조를 사용하기 때문에 O(1)의 시간에 탐색이 가능함."
   ]
  }
 ],
 "metadata": {
  "kernelspec": {
   "display_name": "Python 3",
   "language": "python",
   "name": "python3"
  },
  "language_info": {
   "codemirror_mode": {
    "name": "ipython",
    "version": 3
   },
   "file_extension": ".py",
   "mimetype": "text/x-python",
   "name": "python",
   "nbconvert_exporter": "python",
   "pygments_lexer": "ipython3",
   "version": "3.8.8"
  }
 },
 "nbformat": 4,
 "nbformat_minor": 5
}
