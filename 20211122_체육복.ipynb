{
 "cells": [
  {
   "cell_type": "markdown",
   "id": "02fffe3a",
   "metadata": {},
   "source": [
    "체육복"
   ]
  },
  {
   "cell_type": "markdown",
   "id": "50211818",
   "metadata": {},
   "source": [
    "https://programmers.co.kr/learn/courses/30/lessons/42862"
   ]
  },
  {
   "cell_type": "code",
   "execution_count": 1,
   "id": "17a5a7d0",
   "metadata": {
    "ExecuteTime": {
     "end_time": "2021-07-01T01:02:29.812380Z",
     "start_time": "2021-07-01T01:02:29.787383Z"
    }
   },
   "outputs": [
    {
     "data": {
      "text/plain": [
       "4"
      ]
     },
     "execution_count": 1,
     "metadata": {},
     "output_type": "execute_result"
    }
   ],
   "source": [
    "def solution(n, lost, reserve):\n",
    "    answer = 0\n",
    "    # 중복이 없으니까 set사용\n",
    "    # 여벌의 체육복이 있는 학생도 도난당했을수도 있다.\n",
    "    set_reserve = set(reserve) - set(lost)\n",
    "    set_lost = set(lost)-set(reserve)\n",
    "\n",
    "    # 왼쪽사람부터 체육복 빌려준다.\n",
    "    for i in set_reserve:\n",
    "        if i-1 in set_lost:\n",
    "            set_lost.remove(i-1)\n",
    "        elif i+1 in set_lost:\n",
    "            set_lost.remove(i+1)\n",
    "    answer = n-len(set_lost)\n",
    "            \n",
    "    return answer\n",
    "\n",
    "lost=[1,1,2]\n",
    "reserve=[3,4]\n",
    "solution(5, lost, reserve)\n"
   ]
  }
 ],
 "metadata": {
  "kernelspec": {
   "display_name": "Python 3",
   "language": "python",
   "name": "python3"
  },
  "language_info": {
   "codemirror_mode": {
    "name": "ipython",
    "version": 3
   },
   "file_extension": ".py",
   "mimetype": "text/x-python",
   "name": "python",
   "nbconvert_exporter": "python",
   "pygments_lexer": "ipython3",
   "version": "3.8.8"
  },
  "toc": {
   "base_numbering": 1,
   "nav_menu": {},
   "number_sections": true,
   "sideBar": true,
   "skip_h1_title": false,
   "title_cell": "Table of Contents",
   "title_sidebar": "Contents",
   "toc_cell": false,
   "toc_position": {},
   "toc_section_display": true,
   "toc_window_display": false
  },
  "varInspector": {
   "cols": {
    "lenName": 16,
    "lenType": 16,
    "lenVar": 40
   },
   "kernels_config": {
    "python": {
     "delete_cmd_postfix": "",
     "delete_cmd_prefix": "del ",
     "library": "var_list.py",
     "varRefreshCmd": "print(var_dic_list())"
    },
    "r": {
     "delete_cmd_postfix": ") ",
     "delete_cmd_prefix": "rm(",
     "library": "var_list.r",
     "varRefreshCmd": "cat(var_dic_list()) "
    }
   },
   "types_to_exclude": [
    "module",
    "function",
    "builtin_function_or_method",
    "instance",
    "_Feature"
   ],
   "window_display": false
  }
 },
 "nbformat": 4,
 "nbformat_minor": 5
}
