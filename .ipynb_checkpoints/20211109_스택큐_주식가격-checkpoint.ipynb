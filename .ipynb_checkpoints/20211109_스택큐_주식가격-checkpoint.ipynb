{
 "cells": [
  {
   "cell_type": "markdown",
   "id": "8d8526af",
   "metadata": {},
   "source": [
    "스택/큐 - 주식가격"
   ]
  },
  {
   "cell_type": "markdown",
   "id": "a29fd54c",
   "metadata": {},
   "source": [
    "https://programmers.co.kr/learn/courses/30/lessons/42584?language=python3 "
   ]
  },
  {
   "cell_type": "markdown",
   "id": "e09f76f7",
   "metadata": {},
   "source": [
    "- 몇초동안 가격이 안떨어지고 있는지 리턴하기.\n",
    "\n",
    "\n",
    "- 파이썬은 answer = [0] * 개수 하면 개수만큼 0으로 초기화된 리스트가 만들어 진다."
   ]
  },
  {
   "cell_type": "code",
   "execution_count": 10,
   "id": "52fd255d",
   "metadata": {},
   "outputs": [],
   "source": [
    "def solution(prices):\n",
    "    answer =[0] * len(prices)\n",
    "    for i in range(len(prices)):\n",
    "        for j in range(i+1, len(prices)):\n",
    "            if prices[i] <= prices[j]:\n",
    "                answer[i]+=1\n",
    "            else:\n",
    "                answer[i]+=1\n",
    "                break\n",
    "    return answer"
   ]
  },
  {
   "cell_type": "code",
   "execution_count": 11,
   "id": "7bf5aff4",
   "metadata": {},
   "outputs": [],
   "source": [
    "prices = [1, 2, 3, 2, 3]"
   ]
  },
  {
   "cell_type": "code",
   "execution_count": 12,
   "id": "7ac1c4a0",
   "metadata": {},
   "outputs": [
    {
     "data": {
      "text/plain": [
       "[4, 3, 1, 1, 0]"
      ]
     },
     "execution_count": 12,
     "metadata": {},
     "output_type": "execute_result"
    }
   ],
   "source": [
    "solution(prices)"
   ]
  },
  {
   "cell_type": "markdown",
   "id": "6d7562c0",
   "metadata": {},
   "source": [
    "- 스택으로 푸는 방법은 처음 price를 stack에 쌓고 다음 price가 더 크면 스택에 쌓고 작으면 pop을 한다. "
   ]
  },
  {
   "cell_type": "code",
   "execution_count": 13,
   "id": "d59fd9ac",
   "metadata": {},
   "outputs": [],
   "source": [
    "def solution(prices):\n",
    "    answer = [0]*len(prices)\n",
    "    stack = []\n",
    " \n",
    "    for i, price in enumerate(prices):\n",
    "        #stack이 비었이면 false\n",
    "        while stack and price < prices[stack[-1]]:\n",
    "            j = stack.pop()\n",
    "            answer[j] = i - j\n",
    "        stack.append(i)\n",
    " \n",
    "    # for문 다 돌고 Stack에 남아있는 값들 pop\n",
    "    while stack:\n",
    "        j = stack.pop()\n",
    "        answer[j] = len(prices) - 1 - j\n",
    " \n",
    "    return answer"
   ]
  },
  {
   "cell_type": "code",
   "execution_count": 14,
   "id": "3d1eb763",
   "metadata": {},
   "outputs": [
    {
     "data": {
      "text/plain": [
       "[4, 3, 1, 1, 0]"
      ]
     },
     "execution_count": 14,
     "metadata": {},
     "output_type": "execute_result"
    }
   ],
   "source": [
    "solution(prices)"
   ]
  }
 ],
 "metadata": {
  "kernelspec": {
   "display_name": "Python 3",
   "language": "python",
   "name": "python3"
  },
  "language_info": {
   "codemirror_mode": {
    "name": "ipython",
    "version": 3
   },
   "file_extension": ".py",
   "mimetype": "text/x-python",
   "name": "python",
   "nbconvert_exporter": "python",
   "pygments_lexer": "ipython3",
   "version": "3.8.8"
  }
 },
 "nbformat": 4,
 "nbformat_minor": 5
}
