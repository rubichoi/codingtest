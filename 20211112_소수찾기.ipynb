{
 "cells": [
  {
   "cell_type": "markdown",
   "id": "40cc2059",
   "metadata": {},
   "source": [
    "소수 찾기"
   ]
  },
  {
   "cell_type": "markdown",
   "id": "caa30708",
   "metadata": {},
   "source": [
    "https://programmers.co.kr/learn/courses/30/lessons/42839"
   ]
  },
  {
   "cell_type": "markdown",
   "id": "11f96c91",
   "metadata": {},
   "source": [
    "a |= b : a와 b의 비트를 OR 연산한 후 결과를 a에 할당"
   ]
  },
  {
   "cell_type": "markdown",
   "id": "77e11e51",
   "metadata": {},
   "source": [
    "## 에라토스 테네스의 체"
   ]
  },
  {
   "cell_type": "markdown",
   "id": "9f6d58aa",
   "metadata": {},
   "source": [
    "고대 그리스 수학자 에라토스테네스가 만들어 낸 소수를 찾는 방법. O(Nlog(logN))의 시간 복잡도를 가진다.\n",
    "\n",
    "k=2부터 √n 이하까지 반복하여 자연수들 중 k(제외되지 않았다면)를 제외한 k의 배수들을 제외시킨다."
   ]
  },
  {
   "cell_type": "markdown",
   "id": "c74632bc",
   "metadata": {},
   "source": [
    "## 순열과 조합 라이브러리"
   ]
  },
  {
   "cell_type": "markdown",
   "id": "8ece3676",
   "metadata": {},
   "source": [
    "1. 순열(permutations)\n",
    "- permutations(반복 가능한 객체, n) // n=몇개를 뽑을 것인지\n",
    "\n",
    "중복을 허용하지 않는다.\n",
    "순서에 의미가 있다 (= 같은 값이 뽑히더라도 순서가 다르면 다른 경우의 수로 판단)"
   ]
  },
  {
   "cell_type": "code",
   "execution_count": 1,
   "id": "9178a622",
   "metadata": {},
   "outputs": [
    {
     "name": "stdout",
     "output_type": "stream",
     "text": [
      "[(1, 2), (1, 3), (1, 4), (2, 1), (2, 3), (2, 4), (3, 1), (3, 2), (3, 4), (4, 1), (4, 2), (4, 3)]\n",
      "[(1, 2), (1, 3), (1, 1), (2, 1), (2, 3), (2, 1), (3, 1), (3, 2), (3, 1), (1, 1), (1, 2), (1, 3)]\n"
     ]
    }
   ],
   "source": [
    "from itertools import permutations\n",
    "\n",
    "print(list(permutations([1,2,3,4], 2)))\n",
    "print(list(permutations([1,2,3,1], 2)))"
   ]
  },
  {
   "cell_type": "markdown",
   "id": "b188d174",
   "metadata": {},
   "source": [
    "2. 중복 순열(product)\n",
    "- product(반복 가능한 객체, repeat=num)\n",
    "\n",
    "중복을 허용하는 순열"
   ]
  },
  {
   "cell_type": "code",
   "execution_count": 3,
   "id": "f86d6da3",
   "metadata": {},
   "outputs": [
    {
     "name": "stdout",
     "output_type": "stream",
     "text": [
      "[(1, 1), (1, 2), (1, 3), (1, 4), (2, 1), (2, 2), (2, 3), (2, 4), (3, 1), (3, 2), (3, 3), (3, 4), (4, 1), (4, 2), (4, 3), (4, 4)]\n",
      "[(1, 1), (1, 2), (1, 3), (1, 1), (2, 1), (2, 2), (2, 3), (2, 1), (3, 1), (3, 2), (3, 3), (3, 1), (1, 1), (1, 2), (1, 3), (1, 1)]\n"
     ]
    }
   ],
   "source": [
    "from itertools import product\n",
    "\n",
    "print(list(product([1,2,3,4], repeat=2)))\n",
    "print(list(product([1,2,3,1], repeat=2)))"
   ]
  },
  {
   "cell_type": "markdown",
   "id": "f08898dd",
   "metadata": {},
   "source": [
    "3. 조합(combinations)\n",
    "- combinations(반복 가능한 객체, n) // n=몇개를 뽑을 것인지\n",
    "\n",
    "중복을 허용하지 않는다.\n",
    "순서에 의미가 없다 (= 같은 값이 뽑히면 같은 경우의 수로 판단)"
   ]
  },
  {
   "cell_type": "code",
   "execution_count": 4,
   "id": "7d9bb2fe",
   "metadata": {},
   "outputs": [
    {
     "name": "stdout",
     "output_type": "stream",
     "text": [
      "[(1, 2), (1, 3), (1, 4), (2, 3), (2, 4), (3, 4)]\n",
      "[(1, 2), (1, 3), (1, 1), (2, 3), (2, 1), (3, 1)]\n"
     ]
    }
   ],
   "source": [
    "from itertools import combinations\n",
    "\n",
    "print(list(combinations([1,2,3,4], 2)))\n",
    "print(list(combinations([1,2,3,1], 2)))\n"
   ]
  },
  {
   "cell_type": "markdown",
   "id": "491ed1e0",
   "metadata": {},
   "source": [
    "4. 중복 조합(combinations_with_replacement)\n",
    "- combinations_with_replacement(반복 가능한 객체, n) // n=몇개를 뽑을 것인지\n",
    "\n",
    "중복을 허용하는 조합"
   ]
  },
  {
   "cell_type": "code",
   "execution_count": 5,
   "id": "f56e4d78",
   "metadata": {},
   "outputs": [
    {
     "name": "stdout",
     "output_type": "stream",
     "text": [
      "[(1, 1), (1, 2), (1, 3), (1, 4), (2, 2), (2, 3), (2, 4), (3, 3), (3, 4), (4, 4)]\n",
      "[(1, 1), (1, 2), (1, 3), (1, 1), (2, 2), (2, 3), (2, 1), (3, 3), (3, 1), (1, 1)]\n"
     ]
    }
   ],
   "source": [
    "from itertools import combinations_with_replacement\n",
    "\n",
    "print(list(combinations_with_replacement([1,2,3,4], 2)))\n",
    "print(list(combinations_with_replacement([1,2,3,1], 2)))"
   ]
  },
  {
   "cell_type": "markdown",
   "id": "98ade8f7",
   "metadata": {},
   "source": [
    "- permutations(순열)을 사용해 문제 풀이\n",
    "- ''.join(map(str,arr[j])) 를 사용해 tuple을 join\n",
    "- 소수를 찾는 반복문에서 범위를 2~sqrt(n) 로 지정"
   ]
  },
  {
   "cell_type": "code",
   "execution_count": 6,
   "id": "1a6a557e",
   "metadata": {},
   "outputs": [
    {
     "name": "stdout",
     "output_type": "stream",
     "text": [
      "3\n",
      "2\n"
     ]
    }
   ],
   "source": [
    "import math\n",
    "from itertools import permutations\n",
    "\n",
    "def is_prime_number(n):\n",
    "    \"\"\"소수판별 함수\"\"\"\n",
    "    if n==0 or n==1:                                # 0,1 은 소수가 아님\n",
    "        return False\n",
    "    else:\n",
    "        for i in range(2, int(math.sqrt(n)) + 1):   # sqrt(n)까지만 for문을 돌면서 확인하면 된다.\n",
    "            if n % i == 0:                          # 2~sqrt(num)까지 나누어 떨어지는 숫자가 있으면 소수가 아님\n",
    "                return False\n",
    "        \n",
    "        return True                                 # for문을 다 돌았는데도 False가 아니면 소수\n",
    "\n",
    "def solution(numbers):\n",
    "    answer = []\n",
    "    for i in range(1, len(numbers)+1):              \n",
    "        arr = list(permutations(numbers, i))        # permutations(순열)을 사용해 i개씩 묶어지는 list 생성\n",
    "        for j in range(len(arr)):                   # 생성한 list(arr) 길이만큼 for문 실행\n",
    "            num = int(''.join(map(str,arr[j])))     # list(arr)의 값들은 tuple들로 되어있으모 join(map(str,))을 사용해 join해준다\n",
    "            if is_prime_number(num):                \n",
    "                answer.append(num)                  # is_prime_number() 함수가 True일 경우 (= 소수일 경우) num 추가\n",
    "    \n",
    "    answer = list(set(answer))                      # 같은 값이 나올 수 있기 때문에 set()을 통해 중복값 제거\n",
    "    return len(answer)\n",
    "    \n",
    "\n",
    "print(solution(\"17\"))       # result : 3\n",
    "print(solution(\"011\"))      # result : 2"
   ]
  }
 ],
 "metadata": {
  "kernelspec": {
   "display_name": "Python 3",
   "language": "python",
   "name": "python3"
  },
  "language_info": {
   "codemirror_mode": {
    "name": "ipython",
    "version": 3
   },
   "file_extension": ".py",
   "mimetype": "text/x-python",
   "name": "python",
   "nbconvert_exporter": "python",
   "pygments_lexer": "ipython3",
   "version": "3.8.8"
  }
 },
 "nbformat": 4,
 "nbformat_minor": 5
}
