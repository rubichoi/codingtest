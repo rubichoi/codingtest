{
 "cells": [
  {
   "cell_type": "markdown",
   "id": "c505ccd3",
   "metadata": {},
   "source": [
    "<div class=\"alert alert-block alert-warning\">\n",
    "<strong><font color=\"blue\" size=\"3em\">연습1:  1부터 n까지의 합을 구하는 알고리즘 작성해보기</font></strong>\n",
    "</div>"
   ]
  },
  {
   "cell_type": "markdown",
   "id": "1614c90b",
   "metadata": {},
   "source": [
    "### 알고리즘1: 1부터 n까지의 합을 구하는 알고리즘1\n",
    "* 합을 기록할 변수를 만들고 0을 저장\n",
    "* n을 1부터 1씩 증가하면서 반복\n",
    "* 반복문 안에서 합을 기록할 변수에 1씩 증가된 값을 더함\n",
    "* 반복이 끝나면 합을 출력"
   ]
  },
  {
   "cell_type": "code",
   "execution_count": 1,
   "id": "97b0392b",
   "metadata": {},
   "outputs": [],
   "source": [
    "def sum_all(n):\n",
    "    total = 0\n",
    "    for num in range(1, n + 1):\n",
    "        total += num\n",
    "    return total"
   ]
  },
  {
   "cell_type": "code",
   "execution_count": 2,
   "id": "917d0cde",
   "metadata": {},
   "outputs": [
    {
     "data": {
      "text/plain": [
       "5050"
      ]
     },
     "execution_count": 2,
     "metadata": {},
     "output_type": "execute_result"
    }
   ],
   "source": [
    "sum_all(100)"
   ]
  },
  {
   "cell_type": "markdown",
   "id": "7c1e3e18",
   "metadata": {},
   "source": [
    "### 시간 복잡도 구하기\n",
    "* 1부터 n까지의 합을 구하는 알고리즘1\n",
    "  - 입력 n에 따라 덧셈을 n 번 해야 함 (반복문!)\n",
    "  - 시간 복잡도: n, 빅 오 표기법으로는 **O(n)**"
   ]
  },
  {
   "cell_type": "markdown",
   "id": "2d28a0d1",
   "metadata": {},
   "source": [
    "### 알고리즘2: 1부터 n까지의 합을 구하는 알고리즘2\n",
    "* <font size=5em>$\\frac { n (n + 1) }{ 2 }$</font>\n"
   ]
  },
  {
   "cell_type": "code",
   "execution_count": 3,
   "id": "695beb7e",
   "metadata": {},
   "outputs": [],
   "source": [
    "def sum_all(n):\n",
    "    return int(n * (n + 1) / 2)"
   ]
  },
  {
   "cell_type": "code",
   "execution_count": 4,
   "id": "4da7b20f",
   "metadata": {},
   "outputs": [
    {
     "data": {
      "text/plain": [
       "5050"
      ]
     },
     "execution_count": 4,
     "metadata": {},
     "output_type": "execute_result"
    }
   ],
   "source": [
    "sum_all(100)"
   ]
  },
  {
   "cell_type": "markdown",
   "id": "bb85e8d5",
   "metadata": {},
   "source": [
    "### 시간 복잡도 구하기\n",
    "* 1부터 n까지의 합을 구하는 알고리즘2\n",
    "  - 입력 n이 어떻든 간에, 곱셈/덧셈/나눗셈 하면 됨 (반복문이 없음!)\n",
    "  - 시간 복잡도: 1, 빅 오 표기법으로는 **O(1)**\n"
   ]
  }
 ],
 "metadata": {
  "kernelspec": {
   "display_name": "Python 3",
   "language": "python",
   "name": "python3"
  },
  "language_info": {
   "codemirror_mode": {
    "name": "ipython",
    "version": 3
   },
   "file_extension": ".py",
   "mimetype": "text/x-python",
   "name": "python",
   "nbconvert_exporter": "python",
   "pygments_lexer": "ipython3",
   "version": "3.8.8"
  }
 },
 "nbformat": 4,
 "nbformat_minor": 5
}
